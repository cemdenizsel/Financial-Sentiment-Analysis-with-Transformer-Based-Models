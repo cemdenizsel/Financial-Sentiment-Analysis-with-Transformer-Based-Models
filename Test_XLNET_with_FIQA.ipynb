{
  "nbformat": 4,
  "nbformat_minor": 0,
  "metadata": {
    "colab": {
      "name": "Test XLNET with FIQA.ipynb",
      "provenance": [],
      "include_colab_link": true
    },
    "kernelspec": {
      "name": "python3",
      "display_name": "Python 3"
    },
    "language_info": {
      "name": "python"
    },
    "accelerator": "GPU",
    "widgets": {
      "application/vnd.jupyter.widget-state+json": {
        "fdcff3e5f6f041d98d919892956b396e": {
          "model_module": "@jupyter-widgets/controls",
          "model_name": "HBoxModel",
          "state": {
            "_view_name": "HBoxView",
            "_dom_classes": [],
            "_model_name": "HBoxModel",
            "_view_module": "@jupyter-widgets/controls",
            "_model_module_version": "1.5.0",
            "_view_count": null,
            "_view_module_version": "1.5.0",
            "box_style": "",
            "layout": "IPY_MODEL_2731b1b240ae4561a6338c28d0171922",
            "_model_module": "@jupyter-widgets/controls",
            "children": [
              "IPY_MODEL_ec0725c61cc34b88a002ad92f8b991f6",
              "IPY_MODEL_70257fc6fb0b4d72a9f93194bf7410a4"
            ]
          }
        },
        "2731b1b240ae4561a6338c28d0171922": {
          "model_module": "@jupyter-widgets/base",
          "model_name": "LayoutModel",
          "state": {
            "_view_name": "LayoutView",
            "grid_template_rows": null,
            "right": null,
            "justify_content": null,
            "_view_module": "@jupyter-widgets/base",
            "overflow": null,
            "_model_module_version": "1.2.0",
            "_view_count": null,
            "flex_flow": null,
            "width": null,
            "min_width": null,
            "border": null,
            "align_items": null,
            "bottom": null,
            "_model_module": "@jupyter-widgets/base",
            "top": null,
            "grid_column": null,
            "overflow_y": null,
            "overflow_x": null,
            "grid_auto_flow": null,
            "grid_area": null,
            "grid_template_columns": null,
            "flex": null,
            "_model_name": "LayoutModel",
            "justify_items": null,
            "grid_row": null,
            "max_height": null,
            "align_content": null,
            "visibility": null,
            "align_self": null,
            "height": null,
            "min_height": null,
            "padding": null,
            "grid_auto_rows": null,
            "grid_gap": null,
            "max_width": null,
            "order": null,
            "_view_module_version": "1.2.0",
            "grid_template_areas": null,
            "object_position": null,
            "object_fit": null,
            "grid_auto_columns": null,
            "margin": null,
            "display": null,
            "left": null
          }
        },
        "ec0725c61cc34b88a002ad92f8b991f6": {
          "model_module": "@jupyter-widgets/controls",
          "model_name": "FloatProgressModel",
          "state": {
            "_view_name": "ProgressView",
            "style": "IPY_MODEL_b5f476e0fbea470fb44a6ce316b34209",
            "_dom_classes": [],
            "description": "Downloading: 100%",
            "_model_name": "FloatProgressModel",
            "bar_style": "success",
            "max": 798011,
            "_view_module": "@jupyter-widgets/controls",
            "_model_module_version": "1.5.0",
            "value": 798011,
            "_view_count": null,
            "_view_module_version": "1.5.0",
            "orientation": "horizontal",
            "min": 0,
            "description_tooltip": null,
            "_model_module": "@jupyter-widgets/controls",
            "layout": "IPY_MODEL_7d7b84edeba54093aa75d8e0410e5df2"
          }
        },
        "70257fc6fb0b4d72a9f93194bf7410a4": {
          "model_module": "@jupyter-widgets/controls",
          "model_name": "HTMLModel",
          "state": {
            "_view_name": "HTMLView",
            "style": "IPY_MODEL_f2a592755eea4be29202ce9cd2ae7e14",
            "_dom_classes": [],
            "description": "",
            "_model_name": "HTMLModel",
            "placeholder": "​",
            "_view_module": "@jupyter-widgets/controls",
            "_model_module_version": "1.5.0",
            "value": " 798k/798k [01:05&lt;00:00, 12.3kB/s]",
            "_view_count": null,
            "_view_module_version": "1.5.0",
            "description_tooltip": null,
            "_model_module": "@jupyter-widgets/controls",
            "layout": "IPY_MODEL_e08c52a4c35643b7a6e8ad60b1939d1a"
          }
        },
        "b5f476e0fbea470fb44a6ce316b34209": {
          "model_module": "@jupyter-widgets/controls",
          "model_name": "ProgressStyleModel",
          "state": {
            "_view_name": "StyleView",
            "_model_name": "ProgressStyleModel",
            "description_width": "initial",
            "_view_module": "@jupyter-widgets/base",
            "_model_module_version": "1.5.0",
            "_view_count": null,
            "_view_module_version": "1.2.0",
            "bar_color": null,
            "_model_module": "@jupyter-widgets/controls"
          }
        },
        "7d7b84edeba54093aa75d8e0410e5df2": {
          "model_module": "@jupyter-widgets/base",
          "model_name": "LayoutModel",
          "state": {
            "_view_name": "LayoutView",
            "grid_template_rows": null,
            "right": null,
            "justify_content": null,
            "_view_module": "@jupyter-widgets/base",
            "overflow": null,
            "_model_module_version": "1.2.0",
            "_view_count": null,
            "flex_flow": null,
            "width": null,
            "min_width": null,
            "border": null,
            "align_items": null,
            "bottom": null,
            "_model_module": "@jupyter-widgets/base",
            "top": null,
            "grid_column": null,
            "overflow_y": null,
            "overflow_x": null,
            "grid_auto_flow": null,
            "grid_area": null,
            "grid_template_columns": null,
            "flex": null,
            "_model_name": "LayoutModel",
            "justify_items": null,
            "grid_row": null,
            "max_height": null,
            "align_content": null,
            "visibility": null,
            "align_self": null,
            "height": null,
            "min_height": null,
            "padding": null,
            "grid_auto_rows": null,
            "grid_gap": null,
            "max_width": null,
            "order": null,
            "_view_module_version": "1.2.0",
            "grid_template_areas": null,
            "object_position": null,
            "object_fit": null,
            "grid_auto_columns": null,
            "margin": null,
            "display": null,
            "left": null
          }
        },
        "f2a592755eea4be29202ce9cd2ae7e14": {
          "model_module": "@jupyter-widgets/controls",
          "model_name": "DescriptionStyleModel",
          "state": {
            "_view_name": "StyleView",
            "_model_name": "DescriptionStyleModel",
            "description_width": "",
            "_view_module": "@jupyter-widgets/base",
            "_model_module_version": "1.5.0",
            "_view_count": null,
            "_view_module_version": "1.2.0",
            "_model_module": "@jupyter-widgets/controls"
          }
        },
        "e08c52a4c35643b7a6e8ad60b1939d1a": {
          "model_module": "@jupyter-widgets/base",
          "model_name": "LayoutModel",
          "state": {
            "_view_name": "LayoutView",
            "grid_template_rows": null,
            "right": null,
            "justify_content": null,
            "_view_module": "@jupyter-widgets/base",
            "overflow": null,
            "_model_module_version": "1.2.0",
            "_view_count": null,
            "flex_flow": null,
            "width": null,
            "min_width": null,
            "border": null,
            "align_items": null,
            "bottom": null,
            "_model_module": "@jupyter-widgets/base",
            "top": null,
            "grid_column": null,
            "overflow_y": null,
            "overflow_x": null,
            "grid_auto_flow": null,
            "grid_area": null,
            "grid_template_columns": null,
            "flex": null,
            "_model_name": "LayoutModel",
            "justify_items": null,
            "grid_row": null,
            "max_height": null,
            "align_content": null,
            "visibility": null,
            "align_self": null,
            "height": null,
            "min_height": null,
            "padding": null,
            "grid_auto_rows": null,
            "grid_gap": null,
            "max_width": null,
            "order": null,
            "_view_module_version": "1.2.0",
            "grid_template_areas": null,
            "object_position": null,
            "object_fit": null,
            "grid_auto_columns": null,
            "margin": null,
            "display": null,
            "left": null
          }
        },
        "bfe726af3c2c4f599fe0f86b5a7b0d5a": {
          "model_module": "@jupyter-widgets/controls",
          "model_name": "HBoxModel",
          "state": {
            "_view_name": "HBoxView",
            "_dom_classes": [],
            "_model_name": "HBoxModel",
            "_view_module": "@jupyter-widgets/controls",
            "_model_module_version": "1.5.0",
            "_view_count": null,
            "_view_module_version": "1.5.0",
            "box_style": "",
            "layout": "IPY_MODEL_66d77f87968b46d9acdc7d4919f4eeda",
            "_model_module": "@jupyter-widgets/controls",
            "children": [
              "IPY_MODEL_2bc8faadfc7b44b99f87590d21f50944",
              "IPY_MODEL_269958d8f17e42ae95690856871d5be1"
            ]
          }
        },
        "66d77f87968b46d9acdc7d4919f4eeda": {
          "model_module": "@jupyter-widgets/base",
          "model_name": "LayoutModel",
          "state": {
            "_view_name": "LayoutView",
            "grid_template_rows": null,
            "right": null,
            "justify_content": null,
            "_view_module": "@jupyter-widgets/base",
            "overflow": null,
            "_model_module_version": "1.2.0",
            "_view_count": null,
            "flex_flow": null,
            "width": null,
            "min_width": null,
            "border": null,
            "align_items": null,
            "bottom": null,
            "_model_module": "@jupyter-widgets/base",
            "top": null,
            "grid_column": null,
            "overflow_y": null,
            "overflow_x": null,
            "grid_auto_flow": null,
            "grid_area": null,
            "grid_template_columns": null,
            "flex": null,
            "_model_name": "LayoutModel",
            "justify_items": null,
            "grid_row": null,
            "max_height": null,
            "align_content": null,
            "visibility": null,
            "align_self": null,
            "height": null,
            "min_height": null,
            "padding": null,
            "grid_auto_rows": null,
            "grid_gap": null,
            "max_width": null,
            "order": null,
            "_view_module_version": "1.2.0",
            "grid_template_areas": null,
            "object_position": null,
            "object_fit": null,
            "grid_auto_columns": null,
            "margin": null,
            "display": null,
            "left": null
          }
        },
        "2bc8faadfc7b44b99f87590d21f50944": {
          "model_module": "@jupyter-widgets/controls",
          "model_name": "FloatProgressModel",
          "state": {
            "_view_name": "ProgressView",
            "style": "IPY_MODEL_d24a9a1340584d9ca0abc3284d775202",
            "_dom_classes": [],
            "description": "Downloading: 100%",
            "_model_name": "FloatProgressModel",
            "bar_style": "success",
            "max": 1382015,
            "_view_module": "@jupyter-widgets/controls",
            "_model_module_version": "1.5.0",
            "value": 1382015,
            "_view_count": null,
            "_view_module_version": "1.5.0",
            "orientation": "horizontal",
            "min": 0,
            "description_tooltip": null,
            "_model_module": "@jupyter-widgets/controls",
            "layout": "IPY_MODEL_4aafa4a477284c0c8d46c00edd9856c0"
          }
        },
        "269958d8f17e42ae95690856871d5be1": {
          "model_module": "@jupyter-widgets/controls",
          "model_name": "HTMLModel",
          "state": {
            "_view_name": "HTMLView",
            "style": "IPY_MODEL_f3b9f3c56f04457ba1ec4321ad9859ee",
            "_dom_classes": [],
            "description": "",
            "_model_name": "HTMLModel",
            "placeholder": "​",
            "_view_module": "@jupyter-widgets/controls",
            "_model_module_version": "1.5.0",
            "value": " 1.38M/1.38M [00:04&lt;00:00, 291kB/s]",
            "_view_count": null,
            "_view_module_version": "1.5.0",
            "description_tooltip": null,
            "_model_module": "@jupyter-widgets/controls",
            "layout": "IPY_MODEL_c4f76ca64d30405fb479caaa72dda552"
          }
        },
        "d24a9a1340584d9ca0abc3284d775202": {
          "model_module": "@jupyter-widgets/controls",
          "model_name": "ProgressStyleModel",
          "state": {
            "_view_name": "StyleView",
            "_model_name": "ProgressStyleModel",
            "description_width": "initial",
            "_view_module": "@jupyter-widgets/base",
            "_model_module_version": "1.5.0",
            "_view_count": null,
            "_view_module_version": "1.2.0",
            "bar_color": null,
            "_model_module": "@jupyter-widgets/controls"
          }
        },
        "4aafa4a477284c0c8d46c00edd9856c0": {
          "model_module": "@jupyter-widgets/base",
          "model_name": "LayoutModel",
          "state": {
            "_view_name": "LayoutView",
            "grid_template_rows": null,
            "right": null,
            "justify_content": null,
            "_view_module": "@jupyter-widgets/base",
            "overflow": null,
            "_model_module_version": "1.2.0",
            "_view_count": null,
            "flex_flow": null,
            "width": null,
            "min_width": null,
            "border": null,
            "align_items": null,
            "bottom": null,
            "_model_module": "@jupyter-widgets/base",
            "top": null,
            "grid_column": null,
            "overflow_y": null,
            "overflow_x": null,
            "grid_auto_flow": null,
            "grid_area": null,
            "grid_template_columns": null,
            "flex": null,
            "_model_name": "LayoutModel",
            "justify_items": null,
            "grid_row": null,
            "max_height": null,
            "align_content": null,
            "visibility": null,
            "align_self": null,
            "height": null,
            "min_height": null,
            "padding": null,
            "grid_auto_rows": null,
            "grid_gap": null,
            "max_width": null,
            "order": null,
            "_view_module_version": "1.2.0",
            "grid_template_areas": null,
            "object_position": null,
            "object_fit": null,
            "grid_auto_columns": null,
            "margin": null,
            "display": null,
            "left": null
          }
        },
        "f3b9f3c56f04457ba1ec4321ad9859ee": {
          "model_module": "@jupyter-widgets/controls",
          "model_name": "DescriptionStyleModel",
          "state": {
            "_view_name": "StyleView",
            "_model_name": "DescriptionStyleModel",
            "description_width": "",
            "_view_module": "@jupyter-widgets/base",
            "_model_module_version": "1.5.0",
            "_view_count": null,
            "_view_module_version": "1.2.0",
            "_model_module": "@jupyter-widgets/controls"
          }
        },
        "c4f76ca64d30405fb479caaa72dda552": {
          "model_module": "@jupyter-widgets/base",
          "model_name": "LayoutModel",
          "state": {
            "_view_name": "LayoutView",
            "grid_template_rows": null,
            "right": null,
            "justify_content": null,
            "_view_module": "@jupyter-widgets/base",
            "overflow": null,
            "_model_module_version": "1.2.0",
            "_view_count": null,
            "flex_flow": null,
            "width": null,
            "min_width": null,
            "border": null,
            "align_items": null,
            "bottom": null,
            "_model_module": "@jupyter-widgets/base",
            "top": null,
            "grid_column": null,
            "overflow_y": null,
            "overflow_x": null,
            "grid_auto_flow": null,
            "grid_area": null,
            "grid_template_columns": null,
            "flex": null,
            "_model_name": "LayoutModel",
            "justify_items": null,
            "grid_row": null,
            "max_height": null,
            "align_content": null,
            "visibility": null,
            "align_self": null,
            "height": null,
            "min_height": null,
            "padding": null,
            "grid_auto_rows": null,
            "grid_gap": null,
            "max_width": null,
            "order": null,
            "_view_module_version": "1.2.0",
            "grid_template_areas": null,
            "object_position": null,
            "object_fit": null,
            "grid_auto_columns": null,
            "margin": null,
            "display": null,
            "left": null
          }
        }
      }
    }
  },
  "cells": [
    {
      "cell_type": "markdown",
      "metadata": {
        "id": "view-in-github",
        "colab_type": "text"
      },
      "source": [
        "<a href=\"https://colab.research.google.com/github/cemdenizsel/Financial-Sentiment-Analysis-with-Transformer-Based-Models/blob/main/Test_XLNET_with_FIQA.ipynb\" target=\"_parent\"><img src=\"https://colab.research.google.com/assets/colab-badge.svg\" alt=\"Open In Colab\"/></a>"
      ]
    },
    {
      "cell_type": "code",
      "metadata": {
        "colab": {
          "base_uri": "https://localhost:8080/"
        },
        "id": "X-nQCSynakpN",
        "outputId": "f100b209-8e0d-4586-ee71-ef9ea201b003"
      },
      "source": [
        "-from google.colab import drive\n",
        "drive.mount('/content/drive')"
      ],
      "execution_count": null,
      "outputs": [
        {
          "output_type": "stream",
          "text": [
            "Mounted at /content/drive\n"
          ],
          "name": "stdout"
        }
      ]
    },
    {
      "cell_type": "code",
      "metadata": {
        "colab": {
          "base_uri": "https://localhost:8080/"
        },
        "id": "mbfRRgcqbdJh",
        "outputId": "6b43a419-e5e6-44c5-b68f-99a047cfd6d3"
      },
      "source": [
        "!pip install -qq transformers"
      ],
      "execution_count": null,
      "outputs": [
        {
          "output_type": "stream",
          "text": [
            "\u001b[K     |████████████████████████████████| 2.3MB 14.5MB/s \n",
            "\u001b[K     |████████████████████████████████| 901kB 48.8MB/s \n",
            "\u001b[K     |████████████████████████████████| 3.3MB 51.8MB/s \n",
            "\u001b[?25h"
          ],
          "name": "stdout"
        }
      ]
    },
    {
      "cell_type": "code",
      "metadata": {
        "colab": {
          "base_uri": "https://localhost:8080/"
        },
        "id": "fbhww6vEI-T-",
        "outputId": "db4a5ad9-45ce-4001-b450-8ef0cd9afb93"
      },
      "source": [
        "% pip install sentencepiece"
      ],
      "execution_count": null,
      "outputs": [
        {
          "output_type": "stream",
          "text": [
            "Collecting sentencepiece\n",
            "\u001b[?25l  Downloading https://files.pythonhosted.org/packages/f5/99/e0808cb947ba10f575839c43e8fafc9cc44e4a7a2c8f79c60db48220a577/sentencepiece-0.1.95-cp37-cp37m-manylinux2014_x86_64.whl (1.2MB)\n",
            "\r\u001b[K     |▎                               | 10kB 20.9MB/s eta 0:00:01\r\u001b[K     |▌                               | 20kB 28.2MB/s eta 0:00:01\r\u001b[K     |▉                               | 30kB 22.0MB/s eta 0:00:01\r\u001b[K     |█                               | 40kB 17.6MB/s eta 0:00:01\r\u001b[K     |█▍                              | 51kB 14.7MB/s eta 0:00:01\r\u001b[K     |█▋                              | 61kB 14.3MB/s eta 0:00:01\r\u001b[K     |██                              | 71kB 13.1MB/s eta 0:00:01\r\u001b[K     |██▏                             | 81kB 13.0MB/s eta 0:00:01\r\u001b[K     |██▌                             | 92kB 14.2MB/s eta 0:00:01\r\u001b[K     |██▊                             | 102kB 13.7MB/s eta 0:00:01\r\u001b[K     |███                             | 112kB 13.7MB/s eta 0:00:01\r\u001b[K     |███▎                            | 122kB 13.7MB/s eta 0:00:01\r\u001b[K     |███▌                            | 133kB 13.7MB/s eta 0:00:01\r\u001b[K     |███▉                            | 143kB 13.7MB/s eta 0:00:01\r\u001b[K     |████                            | 153kB 13.7MB/s eta 0:00:01\r\u001b[K     |████▍                           | 163kB 13.7MB/s eta 0:00:01\r\u001b[K     |████▋                           | 174kB 13.7MB/s eta 0:00:01\r\u001b[K     |█████                           | 184kB 13.7MB/s eta 0:00:01\r\u001b[K     |█████▏                          | 194kB 13.7MB/s eta 0:00:01\r\u001b[K     |█████▌                          | 204kB 13.7MB/s eta 0:00:01\r\u001b[K     |█████▊                          | 215kB 13.7MB/s eta 0:00:01\r\u001b[K     |██████                          | 225kB 13.7MB/s eta 0:00:01\r\u001b[K     |██████▎                         | 235kB 13.7MB/s eta 0:00:01\r\u001b[K     |██████▌                         | 245kB 13.7MB/s eta 0:00:01\r\u001b[K     |██████▉                         | 256kB 13.7MB/s eta 0:00:01\r\u001b[K     |███████                         | 266kB 13.7MB/s eta 0:00:01\r\u001b[K     |███████▍                        | 276kB 13.7MB/s eta 0:00:01\r\u001b[K     |███████▋                        | 286kB 13.7MB/s eta 0:00:01\r\u001b[K     |████████                        | 296kB 13.7MB/s eta 0:00:01\r\u001b[K     |████████▏                       | 307kB 13.7MB/s eta 0:00:01\r\u001b[K     |████████▍                       | 317kB 13.7MB/s eta 0:00:01\r\u001b[K     |████████▊                       | 327kB 13.7MB/s eta 0:00:01\r\u001b[K     |█████████                       | 337kB 13.7MB/s eta 0:00:01\r\u001b[K     |█████████▎                      | 348kB 13.7MB/s eta 0:00:01\r\u001b[K     |█████████▌                      | 358kB 13.7MB/s eta 0:00:01\r\u001b[K     |█████████▉                      | 368kB 13.7MB/s eta 0:00:01\r\u001b[K     |██████████                      | 378kB 13.7MB/s eta 0:00:01\r\u001b[K     |██████████▍                     | 389kB 13.7MB/s eta 0:00:01\r\u001b[K     |██████████▋                     | 399kB 13.7MB/s eta 0:00:01\r\u001b[K     |███████████                     | 409kB 13.7MB/s eta 0:00:01\r\u001b[K     |███████████▏                    | 419kB 13.7MB/s eta 0:00:01\r\u001b[K     |███████████▍                    | 430kB 13.7MB/s eta 0:00:01\r\u001b[K     |███████████▊                    | 440kB 13.7MB/s eta 0:00:01\r\u001b[K     |████████████                    | 450kB 13.7MB/s eta 0:00:01\r\u001b[K     |████████████▎                   | 460kB 13.7MB/s eta 0:00:01\r\u001b[K     |████████████▌                   | 471kB 13.7MB/s eta 0:00:01\r\u001b[K     |████████████▉                   | 481kB 13.7MB/s eta 0:00:01\r\u001b[K     |█████████████                   | 491kB 13.7MB/s eta 0:00:01\r\u001b[K     |█████████████▍                  | 501kB 13.7MB/s eta 0:00:01\r\u001b[K     |█████████████▋                  | 512kB 13.7MB/s eta 0:00:01\r\u001b[K     |█████████████▉                  | 522kB 13.7MB/s eta 0:00:01\r\u001b[K     |██████████████▏                 | 532kB 13.7MB/s eta 0:00:01\r\u001b[K     |██████████████▍                 | 542kB 13.7MB/s eta 0:00:01\r\u001b[K     |██████████████▊                 | 552kB 13.7MB/s eta 0:00:01\r\u001b[K     |███████████████                 | 563kB 13.7MB/s eta 0:00:01\r\u001b[K     |███████████████▎                | 573kB 13.7MB/s eta 0:00:01\r\u001b[K     |███████████████▌                | 583kB 13.7MB/s eta 0:00:01\r\u001b[K     |███████████████▉                | 593kB 13.7MB/s eta 0:00:01\r\u001b[K     |████████████████                | 604kB 13.7MB/s eta 0:00:01\r\u001b[K     |████████████████▍               | 614kB 13.7MB/s eta 0:00:01\r\u001b[K     |████████████████▋               | 624kB 13.7MB/s eta 0:00:01\r\u001b[K     |████████████████▉               | 634kB 13.7MB/s eta 0:00:01\r\u001b[K     |█████████████████▏              | 645kB 13.7MB/s eta 0:00:01\r\u001b[K     |█████████████████▍              | 655kB 13.7MB/s eta 0:00:01\r\u001b[K     |█████████████████▊              | 665kB 13.7MB/s eta 0:00:01\r\u001b[K     |██████████████████              | 675kB 13.7MB/s eta 0:00:01\r\u001b[K     |██████████████████▎             | 686kB 13.7MB/s eta 0:00:01\r\u001b[K     |██████████████████▌             | 696kB 13.7MB/s eta 0:00:01\r\u001b[K     |██████████████████▉             | 706kB 13.7MB/s eta 0:00:01\r\u001b[K     |███████████████████             | 716kB 13.7MB/s eta 0:00:01\r\u001b[K     |███████████████████▎            | 727kB 13.7MB/s eta 0:00:01\r\u001b[K     |███████████████████▋            | 737kB 13.7MB/s eta 0:00:01\r\u001b[K     |███████████████████▉            | 747kB 13.7MB/s eta 0:00:01\r\u001b[K     |████████████████████▏           | 757kB 13.7MB/s eta 0:00:01\r\u001b[K     |████████████████████▍           | 768kB 13.7MB/s eta 0:00:01\r\u001b[K     |████████████████████▊           | 778kB 13.7MB/s eta 0:00:01\r\u001b[K     |█████████████████████           | 788kB 13.7MB/s eta 0:00:01\r\u001b[K     |█████████████████████▎          | 798kB 13.7MB/s eta 0:00:01\r\u001b[K     |█████████████████████▌          | 808kB 13.7MB/s eta 0:00:01\r\u001b[K     |█████████████████████▉          | 819kB 13.7MB/s eta 0:00:01\r\u001b[K     |██████████████████████          | 829kB 13.7MB/s eta 0:00:01\r\u001b[K     |██████████████████████▎         | 839kB 13.7MB/s eta 0:00:01\r\u001b[K     |██████████████████████▋         | 849kB 13.7MB/s eta 0:00:01\r\u001b[K     |██████████████████████▉         | 860kB 13.7MB/s eta 0:00:01\r\u001b[K     |███████████████████████▏        | 870kB 13.7MB/s eta 0:00:01\r\u001b[K     |███████████████████████▍        | 880kB 13.7MB/s eta 0:00:01\r\u001b[K     |███████████████████████▊        | 890kB 13.7MB/s eta 0:00:01\r\u001b[K     |████████████████████████        | 901kB 13.7MB/s eta 0:00:01\r\u001b[K     |████████████████████████▎       | 911kB 13.7MB/s eta 0:00:01\r\u001b[K     |████████████████████████▌       | 921kB 13.7MB/s eta 0:00:01\r\u001b[K     |████████████████████████▊       | 931kB 13.7MB/s eta 0:00:01\r\u001b[K     |█████████████████████████       | 942kB 13.7MB/s eta 0:00:01\r\u001b[K     |█████████████████████████▎      | 952kB 13.7MB/s eta 0:00:01\r\u001b[K     |█████████████████████████▋      | 962kB 13.7MB/s eta 0:00:01\r\u001b[K     |█████████████████████████▉      | 972kB 13.7MB/s eta 0:00:01\r\u001b[K     |██████████████████████████▏     | 983kB 13.7MB/s eta 0:00:01\r\u001b[K     |██████████████████████████▍     | 993kB 13.7MB/s eta 0:00:01\r\u001b[K     |██████████████████████████▊     | 1.0MB 13.7MB/s eta 0:00:01\r\u001b[K     |███████████████████████████     | 1.0MB 13.7MB/s eta 0:00:01\r\u001b[K     |███████████████████████████▎    | 1.0MB 13.7MB/s eta 0:00:01\r\u001b[K     |███████████████████████████▌    | 1.0MB 13.7MB/s eta 0:00:01\r\u001b[K     |███████████████████████████▊    | 1.0MB 13.7MB/s eta 0:00:01\r\u001b[K     |████████████████████████████    | 1.1MB 13.7MB/s eta 0:00:01\r\u001b[K     |████████████████████████████▎   | 1.1MB 13.7MB/s eta 0:00:01\r\u001b[K     |████████████████████████████▋   | 1.1MB 13.7MB/s eta 0:00:01\r\u001b[K     |████████████████████████████▉   | 1.1MB 13.7MB/s eta 0:00:01\r\u001b[K     |█████████████████████████████▏  | 1.1MB 13.7MB/s eta 0:00:01\r\u001b[K     |█████████████████████████████▍  | 1.1MB 13.7MB/s eta 0:00:01\r\u001b[K     |█████████████████████████████▊  | 1.1MB 13.7MB/s eta 0:00:01\r\u001b[K     |██████████████████████████████  | 1.1MB 13.7MB/s eta 0:00:01\r\u001b[K     |██████████████████████████████▏ | 1.1MB 13.7MB/s eta 0:00:01\r\u001b[K     |██████████████████████████████▌ | 1.1MB 13.7MB/s eta 0:00:01\r\u001b[K     |██████████████████████████████▊ | 1.2MB 13.7MB/s eta 0:00:01\r\u001b[K     |███████████████████████████████ | 1.2MB 13.7MB/s eta 0:00:01\r\u001b[K     |███████████████████████████████▎| 1.2MB 13.7MB/s eta 0:00:01\r\u001b[K     |███████████████████████████████▋| 1.2MB 13.7MB/s eta 0:00:01\r\u001b[K     |███████████████████████████████▉| 1.2MB 13.7MB/s eta 0:00:01\r\u001b[K     |████████████████████████████████| 1.2MB 13.7MB/s \n",
            "\u001b[?25hInstalling collected packages: sentencepiece\n",
            "Successfully installed sentencepiece-0.1.95\n"
          ],
          "name": "stdout"
        }
      ]
    },
    {
      "cell_type": "code",
      "metadata": {
        "id": "y-cBaqN0bYrZ"
      },
      "source": [
        "import transformers\n",
        "\n",
        "import torch\n",
        "import pandas as pd\n",
        "import numpy as np\n",
        "import torch.nn.functional as F\n",
        "\n",
        "from sklearn.metrics import confusion_matrix, classification_report\n",
        "from torch.utils.data import Dataset, DataLoader\n",
        "from transformers import XLNetTokenizer\n",
        "from sklearn import metrics\n",
        "\n",
        "\n",
        "device = torch.device(\"cuda:0\" if torch.cuda.is_available() else \"cpu\")"
      ],
      "execution_count": null,
      "outputs": []
    },
    {
      "cell_type": "code",
      "metadata": {
        "colab": {
          "base_uri": "https://localhost:8080/",
          "height": 489
        },
        "id": "ajfXA__5flW9",
        "outputId": "3f40aba9-7938-42af-fb04-21bb9c5a9dfd"
      },
      "source": [
        "scores = pd.read_csv('/content/drive/MyDrive/FIQA/scores.txt', sep='delimiter',names=[\"sentiment\"] ,header = None )\n",
        "sentences = pd.read_csv('/content/drive/MyDrive/FIQA/sentences.txt',sep='delimiter',header = None, names=['sentences'])\n",
        "df = pd.concat([sentences , scores], axis=1, join='inner')\n",
        "df"
      ],
      "execution_count": null,
      "outputs": [
        {
          "output_type": "stream",
          "text": [
            "/usr/local/lib/python3.7/dist-packages/ipykernel_launcher.py:1: ParserWarning: Falling back to the 'python' engine because the 'c' engine does not support regex separators (separators > 1 char and different from '\\s+' are interpreted as regex); you can avoid this warning by specifying engine='python'.\n",
            "  \"\"\"Entry point for launching an IPython kernel.\n",
            "/usr/local/lib/python3.7/dist-packages/ipykernel_launcher.py:2: ParserWarning: Falling back to the 'python' engine because the 'c' engine does not support regex separators (separators > 1 char and different from '\\s+' are interpreted as regex); you can avoid this warning by specifying engine='python'.\n",
            "  \n"
          ],
          "name": "stderr"
        },
        {
          "output_type": "execute_result",
          "data": {
            "text/html": [
              "<div>\n",
              "<style scoped>\n",
              "    .dataframe tbody tr th:only-of-type {\n",
              "        vertical-align: middle;\n",
              "    }\n",
              "\n",
              "    .dataframe tbody tr th {\n",
              "        vertical-align: top;\n",
              "    }\n",
              "\n",
              "    .dataframe thead th {\n",
              "        text-align: right;\n",
              "    }\n",
              "</style>\n",
              "<table border=\"1\" class=\"dataframe\">\n",
              "  <thead>\n",
              "    <tr style=\"text-align: right;\">\n",
              "      <th></th>\n",
              "      <th>sentences</th>\n",
              "      <th>sentiment</th>\n",
              "    </tr>\n",
              "  </thead>\n",
              "  <tbody>\n",
              "    <tr>\n",
              "      <th>0</th>\n",
              "      <td>Royal Mail chairman Donald Brydon set to step ...</td>\n",
              "      <td>-0.374</td>\n",
              "    </tr>\n",
              "    <tr>\n",
              "      <th>1</th>\n",
              "      <td>Stakes High for AstraZeneca Heart Drug Facing ...</td>\n",
              "      <td>-0.240</td>\n",
              "    </tr>\n",
              "    <tr>\n",
              "      <th>2</th>\n",
              "      <td>UPDATE 1-Dairy Crest loses a third of Morrison...</td>\n",
              "      <td>-0.161</td>\n",
              "    </tr>\n",
              "    <tr>\n",
              "      <th>3</th>\n",
              "      <td>Insight hires Aviva's David Hillier for multi-...</td>\n",
              "      <td>0.137</td>\n",
              "    </tr>\n",
              "    <tr>\n",
              "      <th>4</th>\n",
              "      <td>Primark racks up a happy Christmas after stron...</td>\n",
              "      <td>0.704</td>\n",
              "    </tr>\n",
              "    <tr>\n",
              "      <th>...</th>\n",
              "      <td>...</td>\n",
              "      <td>...</td>\n",
              "    </tr>\n",
              "    <tr>\n",
              "      <th>433</th>\n",
              "      <td>Aviva, M&amp;G suspend property funds as investors...</td>\n",
              "      <td>-0.807</td>\n",
              "    </tr>\n",
              "    <tr>\n",
              "      <th>434</th>\n",
              "      <td>UK housing market steadies after Brexit dip, P...</td>\n",
              "      <td>0.339</td>\n",
              "    </tr>\n",
              "    <tr>\n",
              "      <th>435</th>\n",
              "      <td>BRIEF-Aviva aims to increase dividend pay-out ...</td>\n",
              "      <td>0.439</td>\n",
              "    </tr>\n",
              "    <tr>\n",
              "      <th>436</th>\n",
              "      <td>Builder Persimmon hails 6% rise in house sales</td>\n",
              "      <td>0.435</td>\n",
              "    </tr>\n",
              "    <tr>\n",
              "      <th>437</th>\n",
              "      <td>EasyJet attracts more passengers in June but s...</td>\n",
              "      <td>0.259</td>\n",
              "    </tr>\n",
              "  </tbody>\n",
              "</table>\n",
              "<p>438 rows × 2 columns</p>\n",
              "</div>"
            ],
            "text/plain": [
              "                                             sentences  sentiment\n",
              "0    Royal Mail chairman Donald Brydon set to step ...     -0.374\n",
              "1    Stakes High for AstraZeneca Heart Drug Facing ...     -0.240\n",
              "2    UPDATE 1-Dairy Crest loses a third of Morrison...     -0.161\n",
              "3    Insight hires Aviva's David Hillier for multi-...      0.137\n",
              "4    Primark racks up a happy Christmas after stron...      0.704\n",
              "..                                                 ...        ...\n",
              "433  Aviva, M&G suspend property funds as investors...     -0.807\n",
              "434  UK housing market steadies after Brexit dip, P...      0.339\n",
              "435  BRIEF-Aviva aims to increase dividend pay-out ...      0.439\n",
              "436     Builder Persimmon hails 6% rise in house sales      0.435\n",
              "437  EasyJet attracts more passengers in June but s...      0.259\n",
              "\n",
              "[438 rows x 2 columns]"
            ]
          },
          "metadata": {
            "tags": []
          },
          "execution_count": 5
        }
      ]
    },
    {
      "cell_type": "code",
      "metadata": {
        "colab": {
          "base_uri": "https://localhost:8080/",
          "height": 402
        },
        "id": "UFj-kVBOE96N",
        "outputId": "2008d728-244e-4f2c-8460-913946fb048a"
      },
      "source": [
        "def change_scores2_sentiments(score):\n",
        "  if score <-0.33:\n",
        "    return 0\n",
        "  elif score > -0.33 and score <0.33:\n",
        "    return 1\n",
        "  else:\n",
        "    return 2\n",
        "df['sentiment'] = df['sentiment'].apply(change_scores2_sentiments)\n",
        "df"
      ],
      "execution_count": null,
      "outputs": [
        {
          "output_type": "execute_result",
          "data": {
            "text/html": [
              "<div>\n",
              "<style scoped>\n",
              "    .dataframe tbody tr th:only-of-type {\n",
              "        vertical-align: middle;\n",
              "    }\n",
              "\n",
              "    .dataframe tbody tr th {\n",
              "        vertical-align: top;\n",
              "    }\n",
              "\n",
              "    .dataframe thead th {\n",
              "        text-align: right;\n",
              "    }\n",
              "</style>\n",
              "<table border=\"1\" class=\"dataframe\">\n",
              "  <thead>\n",
              "    <tr style=\"text-align: right;\">\n",
              "      <th></th>\n",
              "      <th>sentences</th>\n",
              "      <th>sentiment</th>\n",
              "    </tr>\n",
              "  </thead>\n",
              "  <tbody>\n",
              "    <tr>\n",
              "      <th>0</th>\n",
              "      <td>Royal Mail chairman Donald Brydon set to step ...</td>\n",
              "      <td>0</td>\n",
              "    </tr>\n",
              "    <tr>\n",
              "      <th>1</th>\n",
              "      <td>Stakes High for AstraZeneca Heart Drug Facing ...</td>\n",
              "      <td>1</td>\n",
              "    </tr>\n",
              "    <tr>\n",
              "      <th>2</th>\n",
              "      <td>UPDATE 1-Dairy Crest loses a third of Morrison...</td>\n",
              "      <td>1</td>\n",
              "    </tr>\n",
              "    <tr>\n",
              "      <th>3</th>\n",
              "      <td>Insight hires Aviva's David Hillier for multi-...</td>\n",
              "      <td>1</td>\n",
              "    </tr>\n",
              "    <tr>\n",
              "      <th>4</th>\n",
              "      <td>Primark racks up a happy Christmas after stron...</td>\n",
              "      <td>2</td>\n",
              "    </tr>\n",
              "    <tr>\n",
              "      <th>...</th>\n",
              "      <td>...</td>\n",
              "      <td>...</td>\n",
              "    </tr>\n",
              "    <tr>\n",
              "      <th>433</th>\n",
              "      <td>Aviva, M&amp;G suspend property funds as investors...</td>\n",
              "      <td>0</td>\n",
              "    </tr>\n",
              "    <tr>\n",
              "      <th>434</th>\n",
              "      <td>UK housing market steadies after Brexit dip, P...</td>\n",
              "      <td>2</td>\n",
              "    </tr>\n",
              "    <tr>\n",
              "      <th>435</th>\n",
              "      <td>BRIEF-Aviva aims to increase dividend pay-out ...</td>\n",
              "      <td>2</td>\n",
              "    </tr>\n",
              "    <tr>\n",
              "      <th>436</th>\n",
              "      <td>Builder Persimmon hails 6% rise in house sales</td>\n",
              "      <td>2</td>\n",
              "    </tr>\n",
              "    <tr>\n",
              "      <th>437</th>\n",
              "      <td>EasyJet attracts more passengers in June but s...</td>\n",
              "      <td>1</td>\n",
              "    </tr>\n",
              "  </tbody>\n",
              "</table>\n",
              "<p>438 rows × 2 columns</p>\n",
              "</div>"
            ],
            "text/plain": [
              "                                             sentences  sentiment\n",
              "0    Royal Mail chairman Donald Brydon set to step ...          0\n",
              "1    Stakes High for AstraZeneca Heart Drug Facing ...          1\n",
              "2    UPDATE 1-Dairy Crest loses a third of Morrison...          1\n",
              "3    Insight hires Aviva's David Hillier for multi-...          1\n",
              "4    Primark racks up a happy Christmas after stron...          2\n",
              "..                                                 ...        ...\n",
              "433  Aviva, M&G suspend property funds as investors...          0\n",
              "434  UK housing market steadies after Brexit dip, P...          2\n",
              "435  BRIEF-Aviva aims to increase dividend pay-out ...          2\n",
              "436     Builder Persimmon hails 6% rise in house sales          2\n",
              "437  EasyJet attracts more passengers in June but s...          1\n",
              "\n",
              "[438 rows x 2 columns]"
            ]
          },
          "metadata": {
            "tags": []
          },
          "execution_count": 6
        }
      ]
    },
    {
      "cell_type": "code",
      "metadata": {
        "colab": {
          "base_uri": "https://localhost:8080/",
          "height": 151,
          "referenced_widgets": [
            "fdcff3e5f6f041d98d919892956b396e",
            "2731b1b240ae4561a6338c28d0171922",
            "ec0725c61cc34b88a002ad92f8b991f6",
            "70257fc6fb0b4d72a9f93194bf7410a4",
            "b5f476e0fbea470fb44a6ce316b34209",
            "7d7b84edeba54093aa75d8e0410e5df2",
            "f2a592755eea4be29202ce9cd2ae7e14",
            "e08c52a4c35643b7a6e8ad60b1939d1a",
            "bfe726af3c2c4f599fe0f86b5a7b0d5a",
            "66d77f87968b46d9acdc7d4919f4eeda",
            "2bc8faadfc7b44b99f87590d21f50944",
            "269958d8f17e42ae95690856871d5be1",
            "d24a9a1340584d9ca0abc3284d775202",
            "4aafa4a477284c0c8d46c00edd9856c0",
            "f3b9f3c56f04457ba1ec4321ad9859ee",
            "c4f76ca64d30405fb479caaa72dda552"
          ]
        },
        "id": "BV07ympcH-ks",
        "outputId": "b89f532b-2601-4884-9286-bcc77057902f"
      },
      "source": [
        "from transformers import XLNetTokenizer, XLNetModel\n",
        "import torch\n",
        "tokenizer = XLNetTokenizer.from_pretrained('xlnet-base-cased')\n",
        "token_lens = []\n",
        "\n",
        "for txt in df['sentences']:\n",
        "  tokens = tokenizer.encode(txt, max_length=512)\n",
        "  token_lens.append(len(tokens))"
      ],
      "execution_count": null,
      "outputs": [
        {
          "output_type": "display_data",
          "data": {
            "application/vnd.jupyter.widget-view+json": {
              "model_id": "fdcff3e5f6f041d98d919892956b396e",
              "version_minor": 0,
              "version_major": 2
            },
            "text/plain": [
              "HBox(children=(FloatProgress(value=0.0, description='Downloading', max=798011.0, style=ProgressStyle(descripti…"
            ]
          },
          "metadata": {
            "tags": []
          }
        },
        {
          "output_type": "stream",
          "text": [
            "\n"
          ],
          "name": "stdout"
        },
        {
          "output_type": "display_data",
          "data": {
            "application/vnd.jupyter.widget-view+json": {
              "model_id": "bfe726af3c2c4f599fe0f86b5a7b0d5a",
              "version_minor": 0,
              "version_major": 2
            },
            "text/plain": [
              "HBox(children=(FloatProgress(value=0.0, description='Downloading', max=1382015.0, style=ProgressStyle(descript…"
            ]
          },
          "metadata": {
            "tags": []
          }
        },
        {
          "output_type": "stream",
          "text": [
            "Truncation was not explicitly activated but `max_length` is provided a specific value, please use `truncation=True` to explicitly truncate examples to max length. Defaulting to 'longest_first' truncation strategy. If you encode pairs of sequences (GLUE-style) with the tokenizer you can select this strategy more precisely by providing a specific strategy to `truncation`.\n"
          ],
          "name": "stderr"
        },
        {
          "output_type": "stream",
          "text": [
            "\n"
          ],
          "name": "stdout"
        }
      ]
    },
    {
      "cell_type": "code",
      "metadata": {
        "id": "k7px3VnxHNIV"
      },
      "source": [
        "class SentencesDataset(Dataset):\n",
        "\n",
        "    def __init__(self, sentences, targets, tokenizer, max_len):\n",
        "        self.sentences = sentences\n",
        "        self.targets = targets\n",
        "        self.tokenizer = tokenizer\n",
        "        self.max_len = max_len\n",
        "    \n",
        "    def __len__(self):\n",
        "        return len(self.sentences)\n",
        "    \n",
        "    def __getitem__(self, item):\n",
        "        sentence = str(self.sentences[item])\n",
        "        target = self.targets[item]\n",
        "\n",
        "        encoding = self.tokenizer.encode_plus(\n",
        "        sentence,\n",
        "        add_special_tokens=True,\n",
        "        max_length=self.max_len,\n",
        "        return_token_type_ids=False,\n",
        "        pad_to_max_length=False,\n",
        "        return_attention_mask=True,\n",
        "        return_tensors='pt',\n",
        "        )\n",
        "\n",
        "        input_ids = pad_sequences(encoding['input_ids'], maxlen=MAX_LEN, dtype=torch.Tensor ,truncating=\"post\",padding=\"post\")\n",
        "        input_ids = input_ids.astype(dtype = 'int64')\n",
        "        input_ids = torch.tensor(input_ids) \n",
        "\n",
        "        attention_mask = pad_sequences(encoding['attention_mask'], maxlen=MAX_LEN, dtype=torch.Tensor ,truncating=\"post\",padding=\"post\")\n",
        "        attention_mask = attention_mask.astype(dtype = 'int64')\n",
        "        attention_mask = torch.tensor(attention_mask)       \n",
        "\n",
        "        return {\n",
        "        'sentence_text': sentence,\n",
        "        'input_ids': input_ids.flatten(),\n",
        "        'attention_mask': attention_mask.flatten(),\n",
        "        'targets': torch.tensor(target, dtype=torch.long)\n",
        "        }"
      ],
      "execution_count": null,
      "outputs": []
    },
    {
      "cell_type": "code",
      "metadata": {
        "id": "HRhxu5ZqHjO2"
      },
      "source": [
        "def create_data_loader(df, tokenizer, max_len, batch_size):\n",
        "  ds = SentencesDataset(\n",
        "    sentences=df.sentences.to_numpy(),\n",
        "    targets=df.sentiment.to_numpy(),\n",
        "    tokenizer=tokenizer,\n",
        "    max_len=max_len\n",
        "  )\n",
        "\n",
        "  return DataLoader(\n",
        "    ds,\n",
        "    batch_size=batch_size,\n",
        "    num_workers=2\n",
        "  )"
      ],
      "execution_count": null,
      "outputs": []
    },
    {
      "cell_type": "code",
      "metadata": {
        "id": "QZtnYAjiH4gH"
      },
      "source": [
        "BATCH_SIZE = 16\n",
        "MAX_LEN = 128"
      ],
      "execution_count": null,
      "outputs": []
    },
    {
      "cell_type": "code",
      "metadata": {
        "id": "DKS-vWb1H1ms"
      },
      "source": [
        "test_data_loader = create_data_loader(df, tokenizer, MAX_LEN, BATCH_SIZE)"
      ],
      "execution_count": null,
      "outputs": []
    },
    {
      "cell_type": "code",
      "metadata": {
        "colab": {
          "base_uri": "https://localhost:8080/"
        },
        "id": "xlTdHEW7d6nf",
        "outputId": "2af66974-266f-41b4-8d76-078cdda6bf3e"
      },
      "source": [
        "from transformers import XLNetForSequenceClassification\n",
        "model = XLNetForSequenceClassification.from_pretrained('xlnet-base-cased', num_labels = 3)\n",
        "model = model.to(device)"
      ],
      "execution_count": null,
      "outputs": [
        {
          "output_type": "stream",
          "text": [
            "Some weights of the model checkpoint at xlnet-base-cased were not used when initializing XLNetForSequenceClassification: ['lm_loss.bias', 'lm_loss.weight']\n",
            "- This IS expected if you are initializing XLNetForSequenceClassification from the checkpoint of a model trained on another task or with another architecture (e.g. initializing a BertForSequenceClassification model from a BertForPreTraining model).\n",
            "- This IS NOT expected if you are initializing XLNetForSequenceClassification from the checkpoint of a model that you expect to be exactly identical (initializing a BertForSequenceClassification model from a BertForSequenceClassification model).\n",
            "Some weights of XLNetForSequenceClassification were not initialized from the model checkpoint at xlnet-base-cased and are newly initialized: ['logits_proj.weight', 'sequence_summary.summary.weight', 'logits_proj.bias', 'sequence_summary.summary.bias']\n",
            "You should probably TRAIN this model on a down-stream task to be able to use it for predictions and inference.\n"
          ],
          "name": "stderr"
        }
      ]
    },
    {
      "cell_type": "code",
      "metadata": {
        "colab": {
          "base_uri": "https://localhost:8080/"
        },
        "id": "_MQYOD5ubnaG",
        "outputId": "916f1517-9540-4c3e-83fc-65addb7dfb0d"
      },
      "source": [
        "model.load_state_dict(torch.load('/content/drive/My Drive/Imdb/models/xlnet_model.bin'))"
      ],
      "execution_count": null,
      "outputs": [
        {
          "output_type": "execute_result",
          "data": {
            "text/plain": [
              "<All keys matched successfully>"
            ]
          },
          "metadata": {
            "tags": []
          },
          "execution_count": 60
        }
      ]
    },
    {
      "cell_type": "code",
      "metadata": {
        "id": "RmiN0yUBbM8K"
      },
      "source": [
        "model = model.to(device)"
      ],
      "execution_count": null,
      "outputs": []
    },
    {
      "cell_type": "code",
      "metadata": {
        "id": "S72TCEtveVN9"
      },
      "source": [
        "def get_predictions(model, data_loader):\n",
        "    model = model.eval()\n",
        "    \n",
        "    sentence_texts = []\n",
        "    predictions = []\n",
        "    prediction_probs = []\n",
        "    real_values = []\n",
        "\n",
        "    with torch.no_grad():\n",
        "        for d in data_loader:\n",
        "\n",
        "          texts = d[\"sentence_text\"]\n",
        "          input_ids = d[\"input_ids\"].to(device)\n",
        "          attention_mask = d[\"attention_mask\"].to(device)\n",
        "          targets = d[\"targets\"].to(device)\n",
        "            \n",
        "          outputs = model(input_ids=input_ids,\n",
        "                            token_type_ids=None,\n",
        "                            attention_mask=attention_mask,\n",
        "                            labels = targets)\n",
        "\n",
        "          loss = outputs[0]\n",
        "          logits = outputs[1]\n",
        "            \n",
        "          _, preds = torch.max(outputs[1], dim=1)\n",
        "\n",
        "          probs = F.softmax(outputs[1], dim=1)\n",
        "\n",
        "          sentence_texts.extend(texts)\n",
        "          predictions.extend(preds)\n",
        "          prediction_probs.extend(probs)\n",
        "          real_values.extend(targets)\n",
        "\n",
        "    predictions = torch.stack(predictions).cpu()\n",
        "    prediction_probs = torch.stack(prediction_probs).cpu()\n",
        "    real_values = torch.stack(real_values).cpu()\n",
        "    return sentence_texts, predictions, prediction_probs, real_values"
      ],
      "execution_count": null,
      "outputs": []
    },
    {
      "cell_type": "code",
      "metadata": {
        "id": "tBjMAKtGW4kp"
      },
      "source": [
        "def eval_model(model, data_loader, device, n_examples):\n",
        "    model = model.eval()\n",
        "    losses = []\n",
        "    acc = 0\n",
        "    counter = 0\n",
        "  \n",
        "    with torch.no_grad():\n",
        "        for d in data_loader:\n",
        "            input_ids = d[\"input_ids\"].to(device)\n",
        "            attention_mask = d[\"attention_mask\"].to(device)\n",
        "            targets = d[\"targets\"].to(device)\n",
        "            \n",
        "            outputs = model(input_ids=input_ids, token_type_ids=None, attention_mask=attention_mask, labels = targets)\n",
        "            loss = outputs[0]\n",
        "            logits = outputs[1]\n",
        "\n",
        "            _, prediction = torch.max(outputs[1], dim=1)\n",
        "            targets = targets.cpu().detach().numpy()\n",
        "            prediction = prediction.cpu().detach().numpy()\n",
        "            accuracy = metrics.accuracy_score(targets, prediction)\n",
        "\n",
        "            acc += accuracy\n",
        "            losses.append(loss.item())\n",
        "            counter += 1\n",
        "\n",
        "    return acc / counter, np.mean(losses)"
      ],
      "execution_count": null,
      "outputs": []
    },
    {
      "cell_type": "code",
      "metadata": {
        "colab": {
          "base_uri": "https://localhost:8080/"
        },
        "id": "cpMwLeEbWz8b",
        "outputId": "2f891d8e-0a3f-4ccb-9073-af9e0cd412a5"
      },
      "source": [
        "test_acc, test_loss = eval_model(\n",
        "  model,\n",
        "  test_data_loader,\n",
        "  device,\n",
        "  len(df)\n",
        ")\n",
        "\n",
        "print('Test Accuracy :', test_acc)\n",
        "print('Test Loss :', test_loss)"
      ],
      "execution_count": null,
      "outputs": [
        {
          "output_type": "stream",
          "text": [
            "Test Accuracy : 0.6882440476190476\n",
            "Test Loss : 1.491499485714095\n"
          ],
          "name": "stdout"
        }
      ]
    },
    {
      "cell_type": "code",
      "metadata": {
        "id": "u4EDoYGtU_ik"
      },
      "source": [
        "from keras.preprocessing.sequence import pad_sequences"
      ],
      "execution_count": null,
      "outputs": []
    },
    {
      "cell_type": "code",
      "metadata": {
        "id": "O1tuW4KheWuv"
      },
      "source": [
        "y_headline_texts, y_pred, y_pred_probs, y_test = get_predictions(\n",
        "  model,\n",
        "  test_data_loader\n",
        ")"
      ],
      "execution_count": null,
      "outputs": []
    },
    {
      "cell_type": "code",
      "metadata": {
        "id": "pPn7l5lWYhmp"
      },
      "source": [
        "class_names = [\"negative\",\"neutral\",\"positive\"]"
      ],
      "execution_count": null,
      "outputs": []
    },
    {
      "cell_type": "code",
      "metadata": {
        "colab": {
          "base_uri": "https://localhost:8080/"
        },
        "id": "jivGJtJFYf4n",
        "outputId": "c73eb3df-9a02-43a0-fe65-3346509d8824"
      },
      "source": [
        "print(classification_report(y_test, y_pred, target_names=class_names))"
      ],
      "execution_count": null,
      "outputs": [
        {
          "output_type": "stream",
          "text": [
            "              precision    recall  f1-score   support\n",
            "\n",
            "    negative       0.62      0.83      0.71        82\n",
            "     neutral       0.71      0.69      0.70       227\n",
            "    positive       0.69      0.58      0.63       129\n",
            "\n",
            "    accuracy                           0.68       438\n",
            "   macro avg       0.68      0.70      0.68       438\n",
            "weighted avg       0.69      0.68      0.68       438\n",
            "\n"
          ],
          "name": "stdout"
        }
      ]
    },
    {
      "cell_type": "code",
      "metadata": {
        "colab": {
          "base_uri": "https://localhost:8080/",
          "height": 300
        },
        "id": "xCvqeOPmcP5s",
        "outputId": "23d2bd5e-0fec-4642-ac1e-33449a47983a"
      },
      "source": [
        "import seaborn as sns\n",
        "import matplotlib.pyplot as plt\n",
        "\n",
        "\n",
        "def show_confusion_matrix(confusion_matrix):\n",
        "  hmap = sns.heatmap(confusion_matrix, annot=True, fmt=\"d\", cmap=\"Blues\")\n",
        "  hmap.yaxis.set_ticklabels(hmap.yaxis.get_ticklabels(), rotation=0, ha='right')\n",
        "  hmap.xaxis.set_ticklabels(hmap.xaxis.get_ticklabels(), rotation=30, ha='right')\n",
        "  plt.ylabel('True sentiment')\n",
        "  plt.xlabel('Predicted sentiment');\n",
        "cm = confusion_matrix(y_test, y_pred)\n",
        "df_cm = pd.DataFrame(cm, index=class_names, columns=class_names)\n",
        "show_confusion_matrix(df_cm)"
      ],
      "execution_count": null,
      "outputs": [
        {
          "output_type": "display_data",
          "data": {
            "image/png": "[encoded data removed]",
            "text/plain": [
              "<Figure size 432x288 with 2 Axes>"
            ]
          },
          "metadata": {
            "tags": [],
            "needs_background": "light"
          }
        }
      ]
    }
  ]
}